{
 "cells": [
  {
   "cell_type": "code",
   "execution_count": 46,
   "metadata": {},
   "outputs": [],
   "source": [
    "import numpy as np\n",
    "import scipy.stats as ss\n",
    "import matplotlib.pyplot as plt\n",
    "import pymc as pm\n",
    "import pymc3 as pm3\n",
    "import theano.tensor as tt"
   ]
  },
  {
   "cell_type": "code",
   "execution_count": 2,
   "metadata": {},
   "outputs": [
    {
     "data": {
      "text/plain": [
       "array([13, 24,  8, 24,  7, 35, 14, 11, 15, 11, 22, 22, 11, 57, 11, 19, 29,\n",
       "        6, 19, 12, 22, 12, 18, 72, 32,  9,  7, 13, 19, 23, 27, 20,  6, 17,\n",
       "       13, 10, 14,  6, 16, 15,  7,  2, 15, 15, 19, 70, 49,  7, 53, 22, 21,\n",
       "       31, 19, 11, 18, 20, 12, 35, 17, 23, 17,  4,  2, 31, 30, 13, 27,  0,\n",
       "       39, 37,  5, 14, 13, 22])"
      ]
     },
     "execution_count": 2,
     "metadata": {},
     "output_type": "execute_result"
    }
   ],
   "source": [
    "data = np.loadtxt(\"data/txtdata.csv\").astype(int)\n",
    "data"
   ]
  },
  {
   "cell_type": "code",
   "execution_count": 3,
   "metadata": {},
   "outputs": [
    {
     "name": "stderr",
     "output_type": "stream",
     "text": [
      "C:\\ProgramData\\Anaconda3\\lib\\site-packages\\ipykernel_launcher.py:7: UserWarning: Matplotlib is currently using module://ipykernel.pylab.backend_inline, which is a non-GUI backend, so cannot show the figure.\n",
      "  import sys\n"
     ]
    },
    {
     "data": {
      "image/png": "[encoded data removed]",
      "text/plain": [
       "<Figure size 900x252 with 1 Axes>"
      ]
     },
     "metadata": {
      "needs_background": "light"
     },
     "output_type": "display_data"
    }
   ],
   "source": [
    "n_count_data = len(data)\n",
    "fig, axe = plt.subplots(figsize=(12.5, 3.5))\n",
    "axe.bar(np.arange(n_count_data), data, color=\"#348ABD\")\n",
    "axe.set_xlabel(\"Time (days)\")\n",
    "axe.set_ylabel(\"Text message received\")\n",
    "axe.set_title(\"Did the user's texting habits changed over time?\")\n",
    "fig.show()"
   ]
  },
  {
   "cell_type": "markdown",
   "metadata": {},
   "source": [
    "### 概率建模"
   ]
  },
  {
   "cell_type": "code",
   "execution_count": 61,
   "metadata": {},
   "outputs": [
    {
     "name": "stdout",
     "output_type": "stream",
     "text": [
      "Random output: Tau-33, Lambda1-24.981438721241933, Lambda2-6.653332789855784\n"
     ]
    }
   ],
   "source": [
    "beta = 1.0 / data.mean()\n",
    "lambda_1 = pm.Exponential(name=\"lambda_1\", beta=beta)\n",
    "lambda_2 = pm.Exponential(name=\"lambda_2\", beta=beta)\n",
    "tau = pm.DiscreteUniform(name=\"tau\", lower=0, upper=n_count_data)\n",
    "print(f\"Random output: Tau-{tau.random()}, Lambda1-{lambda_1.random()}, Lambda2-{lambda_2.random()}\")"
   ]
  },
  {
   "cell_type": "code",
   "execution_count": 62,
   "metadata": {},
   "outputs": [
    {
     "name": "stderr",
     "output_type": "stream",
     "text": [
      "C:\\ProgramData\\Anaconda3\\lib\\site-packages\\pymc\\MCMC.py:81: UserWarning: Instantiating a Model object directly is deprecated. We recommend passing variables directly to the Model subclass.\n",
      "  warnings.warn(message)\n"
     ]
    }
   ],
   "source": [
    "@pm.deterministic    # 确定性函数，如果输入确定则输出也确定\n",
    "def lambda_(tau = tau, lambda_1 = lambda_1, lambda_2 = lambda_2):\n",
    "    out = np.zeros(n_count_data)\n",
    "    out[:tau] = lambda_1\n",
    "    out[tau:] = lambda_2\n",
    "    return out\n",
    "\n",
    "observation = pm.Poisson(name=\"obs\", mu=lambda_, value=data, observed=True)\n",
    "model = pm.Model(input=[observation, lambda_1, lambda_2, tau])\n",
    "mcmc = pm.MCMC(model)"
   ]
  },
  {
   "cell_type": "code",
   "execution_count": 6,
   "metadata": {},
   "outputs": [
    {
     "name": "stdout",
     "output_type": "stream",
     "text": [
      " [-----------------100%-----------------] 40000 of 40000 complete in 4.7 sec"
     ]
    }
   ],
   "source": [
    "mcmc.sample(iter=40000, burn=10000)\n",
    "# 后验样本\n",
    "lambda_1_samples = mcmc.trace(\"lambda_1\")[:]\n",
    "lambda_2_samples = mcmc.trace(\"lambda_2\")[:]\n",
    "tau_samples = mcmc.trace(\"tau\")[:]"
   ]
  },
  {
   "cell_type": "markdown",
   "metadata": {},
   "source": [
    "> PyMC3做法"
   ]
  },
  {
   "cell_type": "code",
   "execution_count": 52,
   "metadata": {},
   "outputs": [],
   "source": [
    "with pm3.Model() as model:\n",
    "    beta = 1.0 / data.mean()\n",
    "    lambda_1 = pm3.Exponential(\"lambda_1\", beta)\n",
    "    lambda_2 = pm3.Exponential(\"lambda_2\", beta)\n",
    "    tau = pm3.DiscreteUniform(\"tau\", lower=0, upper=n_count_data - 1)\n",
    "    \n",
    "    idx = np.arange(n_count_data)\n",
    "    lambda_ = pm3.math.switch(idx < tau, lambda_1, lambda_2)\n",
    "    observation = pm3.Poisson(\"obs\", lambda_, observed=data)"
   ]
  },
  {
   "cell_type": "code",
   "execution_count": 53,
   "metadata": {},
   "outputs": [
    {
     "name": "stderr",
     "output_type": "stream",
     "text": [
      "Multiprocess sampling (4 chains in 4 jobs)\n",
      "CompoundStep\n",
      ">Metropolis: [tau]\n",
      ">Metropolis: [lambda_2]\n",
      ">Metropolis: [lambda_1]\n",
      "Sampling 4 chains, 0 divergences: 100%|█████████████████████████████████████| 60000/60000 [00:43<00:00, 1385.44draws/s]\n",
      "The number of effective samples is smaller than 25% for some parameters.\n"
     ]
    }
   ],
   "source": [
    "with model:\n",
    "    step = pm3.Metropolis()\n",
    "    trace = pm3.sample(draws=10000, tune=5000, step=step)\n",
    "    lambda_1_samples = trace['lambda_1']\n",
    "    lambda_2_samples = trace['lambda_2']\n",
    "    tau_samples = trace['tau']"
   ]
  },
  {
   "cell_type": "code",
   "execution_count": 60,
   "metadata": {},
   "outputs": [
    {
     "data": {
      "text/latex": [
       "$$\n",
       "            \\begin{array}{rcl}\n",
       "            \\text{tau} &\\sim & \\text{DiscreteUniform}(\\mathit{lower}=f(f()),~\\mathit{upper}=f(f()))\\\\\\text{lambda_1} &\\sim & \\text{Exponential}(\\mathit{lam}=0.05065023956194388)\\\\\\text{lambda_2} &\\sim & \\text{Exponential}(\\mathit{lam}=0.05065023956194388)\\\\\\text{obs} &\\sim & \\text{Poisson}(\\mathit{mu}=f(f(f(\\text{tau}),~array),~f(\\text{lambda_1}),~f(\\text{lambda_2})))\n",
       "            \\end{array}\n",
       "            $$"
      ],
      "text/plain": [
       "<pymc3.model.Model at 0x1d715931dd8>"
      ]
     },
     "execution_count": 60,
     "metadata": {},
     "output_type": "execute_result"
    }
   ],
   "source": [
    "model"
   ]
  },
  {
   "cell_type": "code",
   "execution_count": 49,
   "metadata": {},
   "outputs": [
    {
     "data": {
      "text/plain": [
       "Text(0, 0.5, 'Prob.')"
      ]
     },
     "execution_count": 49,
     "metadata": {},
     "output_type": "execute_result"
    },
    {
     "data": {
      "image/png": "[encoded data removed]",
      "text/plain": [
       "<Figure size 1044x720 with 3 Axes>"
      ]
     },
     "metadata": {
      "needs_background": "light"
     },
     "output_type": "display_data"
    }
   ],
   "source": [
    "fig, axes = plt.subplots(figsize=(14.5, 10), ncols=1, nrows=3)\n",
    "for i, lambdas in enumerate([lambda_1_samples, lambda_2_samples]):\n",
    "    axe = axes[i]\n",
    "    axe.set_autoscaley_on(False)\n",
    "    axe.hist(lambdas, histtype=\"stepfilled\", bins=30, alpha=0.7, color=\"#A60628\", \n",
    "             density=True, label=f\"Posterior of $\\lambda_{i + 1}$\")\n",
    "    axe.legend(loc=\"upper left\")\n",
    "    axe.set_xlim(15, 30)\n",
    "    axe.set_xlabel(f\"$\\lambda_{i + 1}$ value\")\n",
    "    axe.set_ylabel(\"Density\")\n",
    "\n",
    "axe = axes[-1]\n",
    "w = 1.0 / len(tau_samples) * np.ones_like(tau_samples)\n",
    "axe.hist(tau_samples, bins=n_count_data, alpha=1, weights=w,\n",
    "         label=r\"Posterior of $\\tau$\", color=\"#467821\")\n",
    "axe.set_xticks(np.arange(n_count_data))\n",
    "axe.legend()\n",
    "axe.set_xlim(35, 54)\n",
    "axe.set_ylim(0, 0.75)\n",
    "axe.set_xlabel(r\"$\\tau$ (in days)\")\n",
    "axe.set_ylabel(\"Prob.\")"
   ]
  },
  {
   "cell_type": "markdown",
   "metadata": {},
   "source": [
    "可以认为在45天附近发生了明显的转折，$\\lambda_1$约为18，$\\lambda_2$约为23  \n",
    "如果没有发生转折，$\\tau$的分布会更加分散"
   ]
  },
  {
   "cell_type": "markdown",
   "metadata": {},
   "source": [
    "### 每日短信量期望"
   ]
  },
  {
   "cell_type": "code",
   "execution_count": 51,
   "metadata": {},
   "outputs": [
    {
     "data": {
      "text/plain": [
       "<matplotlib.legend.Legend at 0x1d718996080>"
      ]
     },
     "execution_count": 51,
     "metadata": {},
     "output_type": "execute_result"
    },
    {
     "data": {
      "image/png": "[encoded data removed]",
      "text/plain": [
       "<Figure size 900x360 with 1 Axes>"
      ]
     },
     "metadata": {
      "needs_background": "light"
     },
     "output_type": "display_data"
    }
   ],
   "source": [
    "N = len(tau_samples)\n",
    "expected_texts = np.zeros(n_count_data)\n",
    "for day in range(n_count_data):\n",
    "    cond = day < tau_samples  # bool cond\n",
    "    # sum of expectations of different lambda_\n",
    "    expected_texts[day] = (lambda_1_samples[cond].sum() + lambda_2_samples[~cond].sum()) / N\n",
    "plt.figure(figsize=(12.5, 5))\n",
    "plt.plot(range(n_count_data), expected_texts, lw=4, color=\"#E23A33\", label=\"Expected\")\n",
    "plt.bar(range(n_count_data), data, color=\"#348ABD\", alpha=0.6, label=\"Observed\")\n",
    "plt.xlim(0, n_count_data)\n",
    "plt.xlabel(\"Day\")\n",
    "plt.ylabel(\"Number of text messages\")\n",
    "plt.title(\"Observed vs Expected\")\n",
    "plt.legend(loc=\"upper right\")   \n"
   ]
  },
  {
   "cell_type": "markdown",
   "metadata": {},
   "source": [
    "### P($\\lambda_1$ < $\\lambda_2$ | data)"
   ]
  },
  {
   "cell_type": "code",
   "execution_count": 39,
   "metadata": {},
   "outputs": [
    {
     "name": "stdout",
     "output_type": "stream",
     "text": [
      "1.0\n"
     ]
    }
   ],
   "source": [
    "# 100% 确认 两个期望值不相等\n",
    "print((lambda_1_samples < lambda_2_samples).mean())"
   ]
  },
  {
   "cell_type": "markdown",
   "metadata": {},
   "source": [
    "### P($\\lambda_2 - \\lambda_1 > x$ | data)"
   ]
  },
  {
   "cell_type": "code",
   "execution_count": 40,
   "metadata": {},
   "outputs": [
    {
     "name": "stdout",
     "output_type": "stream",
     "text": [
      "The prob that the difference > 1: 0.9997666666666667\n",
      "The prob that the difference > 2: 0.9970333333333333\n",
      "The prob that the difference > 5: 0.4839333333333333\n",
      "The prob that the difference > 10: 0.0\n"
     ]
    }
   ],
   "source": [
    "for x in [1, 2, 5, 10]:\n",
    "    print(f\"The prob that the difference > {x}: {(lambda_2_samples - lambda_1_samples > x).mean()}\")"
   ]
  },
  {
   "cell_type": "markdown",
   "metadata": {},
   "source": [
    "### 多个转折点？"
   ]
  },
  {
   "cell_type": "code",
   "execution_count": 43,
   "metadata": {},
   "outputs": [
    {
     "name": "stdout",
     "output_type": "stream",
     "text": [
      " [-----------------100%-----------------] 40000 of 40000 complete in 7.9 sec"
     ]
    }
   ],
   "source": [
    "beta = 1.0 / data.mean()\n",
    "lambda_1 = pm.Exponential(name=\"lambda_1\", beta=beta)\n",
    "lambda_2 = pm.Exponential(name=\"lambda_2\", beta=beta)\n",
    "lambda_3 = pm.Exponential(name=\"lambda_3\", beta=beta)\n",
    "tau_1 = pm.DiscreteUniform(name=\"tau_1\", lower=0, upper=n_count_data - 1)\n",
    "tau_2 = pm.DiscreteUniform(name=\"tau_2\", lower=tau_1, upper=n_count_data)\n",
    "\n",
    "@pm.deterministic    # 确定性函数，如果输入确定则输出也确定\n",
    "def lambda_(tau_1=tau_1, tau_2=tau_2, lambda_1=lambda_1, lambda_2=lambda_2, lambda_3=lambda_3):\n",
    "    out = np.zeros(n_count_data)\n",
    "    out[:tau_1] = lambda_1\n",
    "    out[tau_1:tau_2] = lambda_2\n",
    "    out[tau_2:] = lambda_3\n",
    "    return out\n",
    "\n",
    "observation = pm.Poisson(name=\"obs\", mu=lambda_, value=data, observed=True)\n",
    "model = pm.Model(input=[observation, lambda_1, lambda_2, lambda_3, tau_1, tau_2])\n",
    "mcmc = pm.MCMC(model)\n",
    "mcmc.sample(iter=40000, burn=10000)\n",
    "\n",
    "lambda_1_samples, lambda_2_samples, lambda_3_samples, tau_1_samples, tau_2_samples =\\\n",
    "    [mcmc.trace(name)[:] for name in [\"lambda_1\", \"lambda_2\", \"lambda_3\", \"tau_1\", \"tau_2\"]]"
   ]
  },
  {
   "cell_type": "code",
   "execution_count": 44,
   "metadata": {},
   "outputs": [
    {
     "data": {
      "text/plain": [
       "Text(0, 0.5, 'Prob.')"
      ]
     },
     "execution_count": 44,
     "metadata": {},
     "output_type": "execute_result"
    },
    {
     "data": {
      "image/png": "[encoded data removed]",
      "text/plain": [
       "<Figure size 1044x720 with 4 Axes>"
      ]
     },
     "metadata": {
      "needs_background": "light"
     },
     "output_type": "display_data"
    }
   ],
   "source": [
    "fig, axes = plt.subplots(figsize=(14.5, 10), ncols=1, nrows=4)\n",
    "for i, lambdas in enumerate([lambda_1_samples, lambda_2_samples, lambda_3_samples]):\n",
    "    axe = axes[i]\n",
    "    axe.set_autoscaley_on(False)\n",
    "    axe.hist(lambdas, histtype=\"stepfilled\", bins=30, alpha=0.7, color=\"#A60628\", \n",
    "             density=True, label=f\"Posterior of $\\lambda_{i + 1}$\")\n",
    "    axe.legend(loc=\"upper left\")\n",
    "    axe.set_xlim(15, 30)\n",
    "    axe.set_xlabel(f\"$\\lambda_{i + 1}$ value\")\n",
    "    axe.set_ylabel(\"Density\")\n",
    "\n",
    "axe = axes[-1]\n",
    "w = 1.0 / len(tau_samples) * np.ones_like(tau_samples)\n",
    "axe.hist(tau_samples, bins=n_count_data, alpha=1, weights=w,\n",
    "         label=r\"Posterior of $\\tau$\", color=\"#467821\")\n",
    "axe.set_xticks(np.arange(n_count_data))\n",
    "axe.legend()\n",
    "axe.set_xlim(35, 54)\n",
    "axe.set_ylim(0, 0.75)\n",
    "axe.set_xlabel(r\"$\\tau$ (in days)\")\n",
    "axe.set_ylabel(\"Prob.\")"
   ]
  }
 ],
 "metadata": {
  "kernelspec": {
   "display_name": "Python 3",
   "language": "python",
   "name": "python3"
  },
  "language_info": {
   "codemirror_mode": {
    "name": "ipython",
    "version": 3
   },
   "file_extension": ".py",
   "mimetype": "text/x-python",
   "name": "python",
   "nbconvert_exporter": "python",
   "pygments_lexer": "ipython3",
   "version": "3.6.9"
  }
 },
 "nbformat": 4,
 "nbformat_minor": 2
}
