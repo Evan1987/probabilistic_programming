{
 "cells": [
  {
   "cell_type": "code",
   "execution_count": 3,
   "metadata": {},
   "outputs": [
    {
     "name": "stdout",
     "output_type": "stream",
     "text": [
      " [-----------------100%-----------------] 25000 of 25000 complete in 0.9 sec"
     ]
    }
   ],
   "source": [
    "import pymc as pm\n",
    "import matplotlib.pyplot as plt\n",
    "\n",
    "N = 100\n",
    "X = 35\n",
    "p = pm.Uniform(\"freq_cheating\", 0, 1)\n",
    "p_yes = 0.5 * p + 0.25\n",
    "yes_responses = pm.Binomial(\"number_cheaters\", n=N, p=p_yes, value=X, observed=True)\n",
    "\n",
    "mcmc = pm.MCMC([p, p_yes, yes_responses])\n",
    "mcmc.sample(25000, 2500)"
   ]
  },
  {
   "cell_type": "code",
   "execution_count": 5,
   "metadata": {},
   "outputs": [
    {
     "data": {
      "text/plain": [
       "<matplotlib.legend.Legend at 0x26abbb4db70>"
      ]
     },
     "execution_count": 5,
     "metadata": {},
     "output_type": "execute_result"
    },
    {
     "data": {
      "image/png": "[encoded data removed]",
      "text/plain": [
       "<Figure size 900x216 with 1 Axes>"
      ]
     },
     "metadata": {
      "needs_background": "light"
     },
     "output_type": "display_data"
    }
   ],
   "source": [
    "plt.figure(figsize=(12.5, 3))\n",
    "p_trace = mcmc.trace(\"freq_cheating\")[:]\n",
    "plt.hist(p_trace, histtype=\"stepfilled\", density=True, alpha=0.8, bins=30, \n",
    "         label=\"Posterior Distribution\", color=\"#348ABD\")\n",
    "plt.vlines([0.05, X / N], [0, 0], [5, 5], alpha=0.2)\n",
    "plt.xlim(0, 1)\n",
    "plt.xlabel(\"Value of $P$\")\n",
    "plt.ylabel(\"Density\")\n",
    "plt.title(\"Posterior distribution of $P$\")\n",
    "plt.legend()"
   ]
  }
 ],
 "metadata": {
  "kernelspec": {
   "display_name": "Python 3",
   "language": "python",
   "name": "python3"
  },
  "language_info": {
   "codemirror_mode": {
    "name": "ipython",
    "version": 3
   },
   "file_extension": ".py",
   "mimetype": "text/x-python",
   "name": "python",
   "nbconvert_exporter": "python",
   "pygments_lexer": "ipython3",
   "version": "3.6.9"
  }
 },
 "nbformat": 4,
 "nbformat_minor": 2
}
