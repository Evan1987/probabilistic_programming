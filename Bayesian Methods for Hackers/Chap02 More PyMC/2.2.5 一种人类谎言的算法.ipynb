{
 "cells": [
  {
   "cell_type": "code",
   "execution_count": 1,
   "metadata": {},
   "outputs": [],
   "source": [
    "import pymc3 as pm\n",
    "import numpy as np\n",
    "import theano\n",
    "import theano.tensor as tt\n",
    "theano.config.compute_test_value = 'off'\n",
    "\n",
    "N = 100    # 测试人数\n",
    "X = 35     # 实际回答作弊的人数\n",
    "with pm.Model() as model:\n",
    "    p = pm.Uniform(\"freq_cheating\", 0, 1)                               # 实际真实作弊比例\n",
    "    true_answers = pm.Bernoulli(\"truths\", p, shape=N)                   # 实际真实回答样本：true 作弊，false 没作弊\n",
    "    first_flips = pm.Bernoulli(\"first_clips\", 0.5, shape=N)             # 第一次抛硬币结果：true 正面，false 反面\n",
    "    second_flips_answers = pm.Bernoulli(\"second_flips\", 0.5, shape=N)   # 第二次抛硬币回答：true 作弊，false 没作弊\n",
    "    observed = first_flips * true_answers + (1 - first_flips) * second_flips_answers\n",
    "    \n",
    "    # 观测比例的分布\n",
    "    observed_prop = pm.Deterministic(\"observed_prop\", tt.sum(observed) / float(N))\n",
    "    # 实际观测数量\n",
    "    observations = pm.Binomial(\"obs\", N, observed_prop, observed=X)"
   ]
  },
  {
   "cell_type": "code",
   "execution_count": 2,
   "metadata": {},
   "outputs": [
    {
     "name": "stderr",
     "output_type": "stream",
     "text": [
      "Sequential sampling (2 chains in 1 job)\n",
      "CompoundStep\n",
      ">Metropolis: [freq_cheating]\n",
      ">BinaryGibbsMetropolis: [truths, first_clips, second_flips]\n",
      "Sampling chain 0, 0 divergences: 100%|███████████████████████████████████████████| 40500/40500 [09:00<00:00, 74.98it/s]\n",
      "Sampling chain 1, 0 divergences: 100%|███████████████████████████████████████████| 40500/40500 [09:26<00:00, 71.48it/s]\n",
      "C:\\ProgramData\\Anaconda3\\lib\\site-packages\\xarray\\core\\nputils.py:215: RuntimeWarning: All-NaN slice encountered\n",
      "  result = getattr(npmodule, name)(values, axis=axis, **kwargs)\n"
     ]
    }
   ],
   "source": [
    "with model:\n",
    "    step = pm.Metropolis(vars=[p])\n",
    "    trace = pm.sample(40000, step=step, cores=1)\n",
    "    selected = trace[15000:]"
   ]
  },
  {
   "cell_type": "code",
   "execution_count": 5,
   "metadata": {},
   "outputs": [
    {
     "data": {
      "text/plain": [
       "0.5"
      ]
     },
     "execution_count": 5,
     "metadata": {},
     "output_type": "execute_result"
    }
   ],
   "source": [
    "trace[\"freq_cheating\"][15000:].mean()"
   ]
  }
 ],
 "metadata": {
  "kernelspec": {
   "display_name": "Python 3",
   "language": "python",
   "name": "python3"
  },
  "language_info": {
   "codemirror_mode": {
    "name": "ipython",
    "version": 3
   },
   "file_extension": ".py",
   "mimetype": "text/x-python",
   "name": "python",
   "nbconvert_exporter": "python",
   "pygments_lexer": "ipython3",
   "version": "3.6.9"
  }
 },
 "nbformat": 4,
 "nbformat_minor": 2
}
