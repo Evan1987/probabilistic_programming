{
 "cells": [
  {
   "cell_type": "code",
   "execution_count": 1,
   "metadata": {},
   "outputs": [],
   "source": [
    "import pymc as pm"
   ]
  },
  {
   "cell_type": "code",
   "execution_count": 2,
   "metadata": {},
   "outputs": [],
   "source": [
    "lambda_ = pm.Exponential(\"poisson_param\", 1)\n",
    "data_generator = pm.Poisson(\"data_generator\", lambda_)\n",
    "data_plus_one = data_generator + 1"
   ]
  },
  {
   "cell_type": "code",
   "execution_count": 24,
   "metadata": {},
   "outputs": [
    {
     "name": "stdout",
     "output_type": "stream",
     "text": [
      "poisson_params parents:  {'beta': 1}\n",
      "poisson_param's children: ' {<pymc.distributions.new_dist_class.<locals>.new_class 'data_generator' at 0x0000029145A9D7B8>}\n",
      "poisson_param's value: ' 0.4490552289095838\n",
      "\n",
      "data_generators parents:  {'mu': <pymc.distributions.new_dist_class.<locals>.new_class 'poisson_param' at 0x0000029145A9D7F0>}\n",
      "data_generator's children: ' {<pymc.PyMCObjects.Deterministic '(data_generator_add_1)' at 0x000002913F17FA20>}\n",
      "data_generator's value: ' 0\n",
      "\n",
      "(data_generator_add_1)s parents:  {'a': <pymc.distributions.new_dist_class.<locals>.new_class 'data_generator' at 0x0000029145A9D7B8>, 'b': 1}\n",
      "(data_generator_add_1)'s children: ' set()\n",
      "(data_generator_add_1)'s value: ' 1\n",
      "\n"
     ]
    }
   ],
   "source": [
    "for param in [lambda_, data_generator, data_plus_one]:\n",
    "    print(f\"{param}\"'s parents: ', param.parents)\n",
    "    print(f\"{param}'s children: '\", param.children)\n",
    "    print(f\"{param}'s value: '\", param.value)\n",
    "    print()"
   ]
  },
  {
   "cell_type": "code",
   "execution_count": 29,
   "metadata": {},
   "outputs": [],
   "source": [
    "dist = pm.DiscreteUniform(\"uniform\", 0, 10)"
   ]
  },
  {
   "cell_type": "code",
   "execution_count": 30,
   "metadata": {},
   "outputs": [
    {
     "data": {
      "text/plain": [
       "array(7)"
      ]
     },
     "execution_count": 30,
     "metadata": {},
     "output_type": "execute_result"
    }
   ],
   "source": [
    "dist.random()"
   ]
  },
  {
   "cell_type": "code",
   "execution_count": 31,
   "metadata": {},
   "outputs": [
    {
     "data": {
      "text/plain": [
       "6"
      ]
     },
     "execution_count": 31,
     "metadata": {},
     "output_type": "execute_result"
    }
   ],
   "source": [
    "pm.rdiscrete_uniform(0, 10)"
   ]
  }
 ],
 "metadata": {
  "kernelspec": {
   "display_name": "Python 3",
   "language": "python",
   "name": "python3"
  },
  "language_info": {
   "codemirror_mode": {
    "name": "ipython",
    "version": 3
   },
   "file_extension": ".py",
   "mimetype": "text/x-python",
   "name": "python",
   "nbconvert_exporter": "python",
   "pygments_lexer": "ipython3",
   "version": "3.6.9"
  }
 },
 "nbformat": 4,
 "nbformat_minor": 2
}
